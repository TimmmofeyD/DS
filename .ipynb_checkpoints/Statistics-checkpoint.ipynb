{
 "cells": [
  {
   "cell_type": "markdown",
   "id": "08f6c0bd",
   "metadata": {},
   "source": [
    "# Описание  одиночного набора данных"
   ]
  },
  {
   "cell_type": "code",
   "execution_count": 36,
   "id": "6acdf57f",
   "metadata": {},
   "outputs": [],
   "source": [
    "num_friends = [100,49,41,40,25,21,21,19,19,18,18,16,15,15,15,15,14,14,13,13,13,13,12,12,11,10,10,10,10,10,10,10,10,10,10,10,10,10,10,10,9,9,9,9,9,9,9,9,9,9,9,9,9,9,9,9,9,9,8,8,8,8,8,8,8,8,8,8,8,8,8,7,7,7,7,7,7,7,7,7,7,7,7,7,7,7,6,6,6,6,6,6,6,6,6,6,6,6,6,6,6,6,6,6,6,6,6,6,5,5,5,5,5,5,5,5,5,5,5,5,5,5,5,5,5,4,4,4,4,4,4,4,4,4,4,4,4,4,4,4,4,4,4,4,4,3,3,3,3,3,3,3,3,3,3,3,3,3,3,3,3,3,3,3,3,2,2,2,2,2,2,2,2,2,2,2,2,2,2,2,2,2,1,1,1,1,1,1,1,1,1,1,1,1,1,1,1,1,1,1,1,1,1,1]"
   ]
  },
  {
   "cell_type": "code",
   "execution_count": null,
   "id": "62dc62e3",
   "metadata": {},
   "outputs": [],
   "source": []
  },
  {
   "cell_type": "code",
   "execution_count": 37,
   "id": "14ce233a",
   "metadata": {},
   "outputs": [],
   "source": [
    "from collections import Counter\n",
    "import matplotlib.pyplot as plt"
   ]
  },
  {
   "cell_type": "code",
   "execution_count": 38,
   "id": "f689d90c",
   "metadata": {},
   "outputs": [],
   "source": [
    "friend_counts = Counter(num_friends)\n",
    "xs = range(101)                         # Максимум равен 100\n",
    "ys = [friend_counts[x] for x in xs]     # Высота - число друзей"
   ]
  },
  {
   "cell_type": "code",
   "execution_count": null,
   "id": "d40be551",
   "metadata": {},
   "outputs": [],
   "source": []
  },
  {
   "cell_type": "code",
   "execution_count": 39,
   "id": "9ca6c4d7",
   "metadata": {},
   "outputs": [
    {
     "data": {
      "image/png": "[encoded data removed]",
      "text/plain": [
       "<Figure size 432x288 with 1 Axes>"
      ]
     },
     "metadata": {
      "needs_background": "light"
     },
     "output_type": "display_data"
    }
   ],
   "source": [
    "plt.bar(xs, ys)\n",
    "plt.axis([0, 101, 0, 25])\n",
    "plt.title(\"Гистограмма количества друзей\")\n",
    "plt.xlabel(\"Число друзей\")\n",
    "plt.ylabel(\"Число людей\");"
   ]
  },
  {
   "cell_type": "code",
   "execution_count": null,
   "id": "ccc145dd",
   "metadata": {},
   "outputs": [],
   "source": []
  },
  {
   "cell_type": "code",
   "execution_count": 40,
   "id": "59f76208",
   "metadata": {},
   "outputs": [],
   "source": [
    "num_points = len(num_friends) "
   ]
  },
  {
   "cell_type": "code",
   "execution_count": 41,
   "id": "3af0b16e",
   "metadata": {},
   "outputs": [],
   "source": [
    "largest_value = max(num_friends)            \n",
    "smallest_value = min(num_friends)  "
   ]
  },
  {
   "cell_type": "code",
   "execution_count": 42,
   "id": "f8181b98",
   "metadata": {},
   "outputs": [
    {
     "name": "stdout",
     "output_type": "stream",
     "text": [
      "204 100 1\n"
     ]
    }
   ],
   "source": [
    "print(num_points, largest_value, smallest_value)"
   ]
  },
  {
   "cell_type": "code",
   "execution_count": null,
   "id": "dfacbb29",
   "metadata": {},
   "outputs": [],
   "source": []
  },
  {
   "cell_type": "code",
   "execution_count": 43,
   "id": "8faaf1dd",
   "metadata": {},
   "outputs": [],
   "source": [
    "sorted_values = sorted(num_friends)\n",
    "smallest_value = sorted_values[0]           \n",
    "second_smallest_value = sorted_values[1]    \n",
    "second_largest_value = sorted_values[-2]"
   ]
  },
  {
   "cell_type": "code",
   "execution_count": 44,
   "id": "cfaa4288",
   "metadata": {},
   "outputs": [
    {
     "name": "stdout",
     "output_type": "stream",
     "text": [
      "1 49 1\n"
     ]
    }
   ],
   "source": [
    "print(smallest_value, second_largest_value, second_smallest_value)"
   ]
  },
  {
   "cell_type": "code",
   "execution_count": 45,
   "id": "7f0ba0a4",
   "metadata": {},
   "outputs": [
    {
     "name": "stdout",
     "output_type": "stream",
     "text": [
      "[1, 1, 1, 1, 1, 1, 1, 1, 1, 1, 1, 1, 1, 1, 1, 1, 1, 1, 1, 1, 1, 1, 2, 2, 2, 2, 2, 2, 2, 2, 2, 2, 2, 2, 2, 2, 2, 2, 2, 3, 3, 3, 3, 3, 3, 3, 3, 3, 3, 3, 3, 3, 3, 3, 3, 3, 3, 3, 3, 4, 4, 4, 4, 4, 4, 4, 4, 4, 4, 4, 4, 4, 4, 4, 4, 4, 4, 4, 4, 5, 5, 5, 5, 5, 5, 5, 5, 5, 5, 5, 5, 5, 5, 5, 5, 5, 6, 6, 6, 6, 6, 6, 6, 6, 6, 6, 6, 6, 6, 6, 6, 6, 6, 6, 6, 6, 6, 6, 7, 7, 7, 7, 7, 7, 7, 7, 7, 7, 7, 7, 7, 7, 7, 8, 8, 8, 8, 8, 8, 8, 8, 8, 8, 8, 8, 8, 9, 9, 9, 9, 9, 9, 9, 9, 9, 9, 9, 9, 9, 9, 9, 9, 9, 9, 10, 10, 10, 10, 10, 10, 10, 10, 10, 10, 10, 10, 10, 10, 10, 11, 12, 12, 13, 13, 13, 13, 14, 14, 15, 15, 15, 15, 16, 18, 18, 19, 19, 21, 21, 25, 40, 41, 49, 100]\n"
     ]
    }
   ],
   "source": [
    "print(sorted_values)"
   ]
  },
  {
   "cell_type": "markdown",
   "id": "ba1c7389",
   "metadata": {},
   "source": [
    "# Центральные тенденции"
   ]
  },
  {
   "cell_type": "code",
   "execution_count": 46,
   "id": "338f7ceb",
   "metadata": {},
   "outputs": [],
   "source": [
    "from typing import List"
   ]
  },
  {
   "cell_type": "code",
   "execution_count": null,
   "id": "c2887787",
   "metadata": {},
   "outputs": [],
   "source": []
  },
  {
   "cell_type": "code",
   "execution_count": 47,
   "id": "333996d7",
   "metadata": {},
   "outputs": [],
   "source": [
    "def mean(xs: List[float]) -> float:\n",
    "    return sum(xs) / len(xs)"
   ]
  },
  {
   "cell_type": "code",
   "execution_count": 48,
   "id": "57c95eb0",
   "metadata": {},
   "outputs": [
    {
     "data": {
      "text/plain": [
       "7.333333333333333"
      ]
     },
     "execution_count": 48,
     "metadata": {},
     "output_type": "execute_result"
    }
   ],
   "source": [
    "mean(num_friends)"
   ]
  },
  {
   "cell_type": "code",
   "execution_count": null,
   "id": "028c7858",
   "metadata": {},
   "outputs": [],
   "source": []
  },
  {
   "cell_type": "code",
   "execution_count": 49,
   "id": "96ab0939",
   "metadata": {},
   "outputs": [],
   "source": [
    "# Символы подчеркивания указывают на то, что эти функции являются приватными\n",
    "# тк они предназначены для вызова \n",
    "# из нашей функции median, а не другими людьми\n",
    "# использующими нашу статистическую библиотеку"
   ]
  },
  {
   "cell_type": "code",
   "execution_count": 50,
   "id": "11d4f64c",
   "metadata": {},
   "outputs": [],
   "source": [
    "def _median_odd(xs: List[float]) -> float:\n",
    "    \"\"\"Если len(xs) является нечетной, то медиана - это срединный элемент\"\"\"\n",
    "    return sorted(xs)[len(xs) // 2]"
   ]
  },
  {
   "cell_type": "code",
   "execution_count": null,
   "id": "0c1ec81c",
   "metadata": {},
   "outputs": [],
   "source": []
  },
  {
   "cell_type": "code",
   "execution_count": 51,
   "id": "d933bc50",
   "metadata": {},
   "outputs": [],
   "source": [
    "def _median_even(xs: List[float]) -> float:\n",
    "    \"\"\"Если len(xs) является четной, то она является средним значением двух срединных элементов\"\"\"\n",
    "    sorted_xs = sorted(xs)\n",
    "    hi_midpoint = len(xs) // 2 \n",
    "    return (sorted_xs[hi_midpoint - 1] + sorted_xs[hi_midpoint]) / 2"
   ]
  },
  {
   "cell_type": "code",
   "execution_count": null,
   "id": "6702238c",
   "metadata": {},
   "outputs": [],
   "source": []
  },
  {
   "cell_type": "code",
   "execution_count": 52,
   "id": "b905dbd8",
   "metadata": {},
   "outputs": [],
   "source": [
    "def median(v: List[float]) -> float:\n",
    "    return _median_even(v) if len(v) % 2 == 0 else _median_odd(v)"
   ]
  },
  {
   "cell_type": "code",
   "execution_count": null,
   "id": "e47bc94c",
   "metadata": {},
   "outputs": [],
   "source": []
  },
  {
   "cell_type": "code",
   "execution_count": 53,
   "id": "81618aca",
   "metadata": {},
   "outputs": [
    {
     "name": "stdout",
     "output_type": "stream",
     "text": [
      "5\n",
      "5.5\n"
     ]
    }
   ],
   "source": [
    "print(median([1, 10, 2, 9, 5])) # 5\n",
    "print(median([1, 9, 2, 10])) # (2 + 9) / 2 = 5.5"
   ]
  },
  {
   "cell_type": "code",
   "execution_count": null,
   "id": "dbd56192",
   "metadata": {},
   "outputs": [],
   "source": []
  },
  {
   "cell_type": "code",
   "execution_count": 54,
   "id": "2226256b",
   "metadata": {},
   "outputs": [
    {
     "name": "stdout",
     "output_type": "stream",
     "text": [
      "6.0\n"
     ]
    }
   ],
   "source": [
    "print(median(num_friends)) # 6"
   ]
  },
  {
   "cell_type": "code",
   "execution_count": null,
   "id": "13e8fbd1",
   "metadata": {},
   "outputs": [],
   "source": []
  },
  {
   "cell_type": "code",
   "execution_count": 55,
   "id": "a7e9fe7d",
   "metadata": {},
   "outputs": [],
   "source": [
    "def quantile(xs: List[float], p: float) -> float:\n",
    "    \"\"\"Возвращает значение p-го процентиля в x\"\"\"\n",
    "    p_index = int(p * len(xs)) # Преобразует % в индекс списка\n",
    "    return sorted(xs)[p_index]"
   ]
  },
  {
   "cell_type": "code",
   "execution_count": null,
   "id": "8f55aa92",
   "metadata": {},
   "outputs": [],
   "source": []
  },
  {
   "cell_type": "code",
   "execution_count": 56,
   "id": "4677dda7",
   "metadata": {},
   "outputs": [
    {
     "name": "stdout",
     "output_type": "stream",
     "text": [
      "1\n",
      "3\n",
      "9\n",
      "13\n"
     ]
    }
   ],
   "source": [
    "print(quantile(num_friends, 0.10)) # 1\n",
    "print(quantile(num_friends, 0.25)) # 3\n",
    "print(quantile(num_friends, 0.75)) # 9\n",
    "print(quantile(num_friends, 0.90)) # 13"
   ]
  },
  {
   "cell_type": "code",
   "execution_count": 57,
   "id": "9720f13d",
   "metadata": {},
   "outputs": [],
   "source": [
    "def mode(x: List[float]) -> List[float]:\n",
    "    \"\"\"Возвращает список, т.е. может быть больше 1 моды\"\"\"\n",
    "    counts = Counter(x)\n",
    "    max_count = max(counts.values())\n",
    "    return [x_i for x_i, count in counts.items()\n",
    "            if count == max_count]"
   ]
  },
  {
   "cell_type": "code",
   "execution_count": null,
   "id": "6225fff3",
   "metadata": {},
   "outputs": [],
   "source": []
  },
  {
   "cell_type": "code",
   "execution_count": 58,
   "id": "6c904a13",
   "metadata": {},
   "outputs": [
    {
     "name": "stdout",
     "output_type": "stream",
     "text": [
      "{1, 6}\n"
     ]
    }
   ],
   "source": [
    "print(set(mode(num_friends))) # {1, 6}"
   ]
  },
  {
   "cell_type": "code",
   "execution_count": null,
   "id": "016575dc",
   "metadata": {},
   "outputs": [],
   "source": []
  },
  {
   "cell_type": "markdown",
   "id": "c6cb9ea1",
   "metadata": {},
   "source": [
    "# Вариация"
   ]
  },
  {
   "cell_type": "code",
   "execution_count": 59,
   "id": "ec6c6c48",
   "metadata": {},
   "outputs": [],
   "source": [
    "# Ключевое слово \"range\" (размах) в Python уже имеет\n",
    "# свой смысл, поэтому выберем другое"
   ]
  },
  {
   "cell_type": "code",
   "execution_count": 60,
   "id": "2922d266",
   "metadata": {},
   "outputs": [],
   "source": [
    "def data_range(xs: List[float]) -> float:\n",
    "    return max(xs) - min(xs) # Размах равен 0 когда max и min эквивалентны"
   ]
  },
  {
   "cell_type": "code",
   "execution_count": null,
   "id": "948d1530",
   "metadata": {},
   "outputs": [],
   "source": []
  },
  {
   "cell_type": "code",
   "execution_count": 62,
   "id": "399a67c1",
   "metadata": {},
   "outputs": [
    {
     "name": "stdout",
     "output_type": "stream",
     "text": [
      "99\n"
     ]
    }
   ],
   "source": [
    "print(data_range(num_friends)) # 99"
   ]
  },
  {
   "cell_type": "code",
   "execution_count": null,
   "id": "d1c13d8b",
   "metadata": {},
   "outputs": [],
   "source": []
  },
  {
   "cell_type": "code",
   "execution_count": null,
   "id": "cb7e3afe",
   "metadata": {},
   "outputs": [],
   "source": []
  }
 ],
 "metadata": {
  "kernelspec": {
   "display_name": "Python 3 (ipykernel)",
   "language": "python",
   "name": "python3"
  },
  "language_info": {
   "codemirror_mode": {
    "name": "ipython",
    "version": 3
   },
   "file_extension": ".py",
   "mimetype": "text/x-python",
   "name": "python",
   "nbconvert_exporter": "python",
   "pygments_lexer": "ipython3",
   "version": "3.9.12"
  }
 },
 "nbformat": 4,
 "nbformat_minor": 5
}
